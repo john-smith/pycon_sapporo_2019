{
 "cells": [
  {
   "cell_type": "markdown",
   "metadata": {
    "slideshow": {
     "slide_type": "slide"
    }
   },
   "source": [
    "<img src=\"img/cm_logo.jpg\" alt=\"cm_logo\" width=\"600\">\n",
    "\n",
    "# Jupyter Notebookではじめるインタラクティブな開発環境入門\n",
    "じょんすみす"
   ]
  },
  {
   "cell_type": "markdown",
   "metadata": {
    "slideshow": {
     "slide_type": "slide"
    }
   },
   "source": [
    "## whoami\n",
    "- じょんすみす\n",
    "- クラスメソッド株式会社\n",
    "- データインテグレーション(DI)部 ML推進チームリーダー"
   ]
  },
  {
   "cell_type": "markdown",
   "metadata": {},
   "source": [
    "<img src=\"img/whoami.png\" alt=\"whoami\" width=\"500\">"
   ]
  },
  {
   "cell_type": "markdown",
   "metadata": {},
   "source": [
    "### やってること\n",
    "- Hadoop/Sparkおじさん\n",
    "- 機械学習の人\n",
    "- Alteryxの人"
   ]
  },
  {
   "cell_type": "markdown",
   "metadata": {
    "slideshow": {
     "slide_type": "slide"
    }
   },
   "source": [
    "## 本日の内容\n",
    "- Jupyter Notebookの基本的な機能をサラッと紹介\n",
    "- たぶん今日の内容だけで最低限使えるけど興味を持って詳しく知りたくなったら調べてね☆彡"
   ]
  },
  {
   "cell_type": "markdown",
   "metadata": {
    "slideshow": {
     "slide_type": "slide"
    }
   },
   "source": [
    "## インタラクティブな環境とは\n",
    "\n",
    "- 通常のプログラム\n",
    "  - 処理全体を記述したスクリプトを一括で実行する\n",
    "  - Pythonの場合、.pyファイルを指定してpythonコマンドを実行\n",
    "  - 一連の流れを一通り記述したのち全体を実行するので細かい単位での処理内容の確認が難しい\n",
    "  - ファイルの内容に変更がなければ常に同じ結果を得られる\n",
    "- インタラクティブな環境\n",
    "  - いわゆるREPL\n",
    "  - Pythonの場合、.pyを指定せずにpythonコマンドを実行\n",
    "  - 1行記述して実行を繰り返していく\n",
    "  - 細かい単位で処理結果を確認できる\n",
    "  - 記述した内容を保存しておけない\n",
    "  \n",
    "![Pythonコマンド](img/python_console.png)"
   ]
  },
  {
   "cell_type": "markdown",
   "metadata": {
    "slideshow": {
     "slide_type": "slide"
    }
   },
   "source": [
    "## Jupyter Notebookとインタラクティブな環境\n",
    "\n",
    "Jupyter Notebookを使えばインタラクティブにスクリプトを実行しながら処理内容も保存しておける"
   ]
  },
  {
   "cell_type": "code",
   "execution_count": 1,
   "metadata": {},
   "outputs": [
    {
     "name": "stdout",
     "output_type": "stream",
     "text": [
      "Hello\n"
     ]
    }
   ],
   "source": [
    "print('Hello')"
   ]
  },
  {
   "cell_type": "markdown",
   "metadata": {
    "slideshow": {
     "slide_type": "slide"
    }
   },
   "source": [
    "### 処理は複数行・複数命令を記述可能"
   ]
  },
  {
   "cell_type": "code",
   "execution_count": 2,
   "metadata": {},
   "outputs": [
    {
     "name": "stdout",
     "output_type": "stream",
     "text": [
      "0: ピーター\n",
      "1: フロプシー\n",
      "2: モプシー\n",
      "3: カトンテール\n",
      "4: ベンジャミン\n"
     ]
    },
    {
     "data": {
      "text/plain": [
       "'Done'"
      ]
     },
     "execution_count": 2,
     "metadata": {},
     "output_type": "execute_result"
    }
   ],
   "source": [
    "items = ['ピーター', 'フロプシー', 'モプシー', 'カトンテール', 'ベンジャミン']\n",
    "\n",
    "for index, item in enumerate(items) :\n",
    "    print('{}: {}'.format(index, item))\n",
    "\n",
    "\n",
    "# セル内の一番最後の処理の戻り値は変数で受け取らなければそのまま出力される\n",
    "result = 'Done'\n",
    "result"
   ]
  },
  {
   "cell_type": "markdown",
   "metadata": {
    "slideshow": {
     "slide_type": "slide"
    }
   },
   "source": [
    "### 関数などの定義のみのセルも作成可能"
   ]
  },
  {
   "cell_type": "code",
   "execution_count": 3,
   "metadata": {},
   "outputs": [],
   "source": [
    "def rabbit_function() :\n",
    "    pass\n",
    "\n",
    "class rabbit_class:\n",
    "    def rabiit_method() :\n",
    "        pass"
   ]
  },
  {
   "cell_type": "markdown",
   "metadata": {
    "slideshow": {
     "slide_type": "slide"
    }
   },
   "source": [
    "## Jupyter Notebookのキホン\n",
    "### インストール・起動・Notebook作成\n",
    "- pipを使ってJupyter Notebookのインストール\n",
    "\n",
    "```\n",
    "pip install jupyter\n",
    "```\n",
    "\n",
    "- 以下のコマンドを入力して起動\n",
    "\n",
    "```\n",
    "jupyter notebook\n",
    "```"
   ]
  },
  {
   "cell_type": "markdown",
   "metadata": {
    "slideshow": {
     "slide_type": "slide"
    }
   },
   "source": [
    "- ブラウザの新規タブで立ち上がり以下のような画面が表示される(localhost:8888を直接入力してもok)\n",
    "\n",
    "![Jupyter Notebookの起動画面](img/jupyter_list.png)\n",
    "\n",
    "- 右上の[new] > [Python3]を選択することによって新規Notebookを作成\n",
    "\n",
    "<img src=\"img/new_notebook.png\" alt=\"新規作成\" width=\"350\">\n",
    "![新規作成](img/new_notebook.png)"
   ]
  },
  {
   "cell_type": "markdown",
   "metadata": {
    "slideshow": {
     "slide_type": "slide"
    }
   },
   "source": [
    "### プログラムの処理単位とセル\n",
    "- セルと言われる単位でプログラムを実行する\n",
    "  - セル内に処理を記述して実行(Shift-EnterまたはCtrl-Enter)\n",
    "  - セルの追加・削除は自由に行える\n",
    "- コマンドモードと編集モード\n",
    "  - Escキーを押してコマンドモードへ移行\n",
    "    - コマンドモードではカーソルキー上下でセル間の移動\n",
    "    - `a`で現在セルの上、`b`で下に新しいセルを追加\n",
    "    - `dd`でセルの削除\n",
    "    - `Enter`で現在のセルに対して変数モードに移行\n",
    "- その他のショートカット\n",
    "  - `h`で一覧表示\n",
    "  \n",
    "<img src=\"img/sc.png\" alt=\"ショートカット\" width=\"600\">"
   ]
  },
  {
   "cell_type": "code",
   "execution_count": 4,
   "metadata": {
    "slideshow": {
     "slide_type": "skip"
    }
   },
   "outputs": [],
   "source": [
    "# デモ用のセル"
   ]
  },
  {
   "cell_type": "markdown",
   "metadata": {
    "slideshow": {
     "slide_type": "slide"
    }
   },
   "source": [
    "### Notebookの保存\n",
    "- Notebookはファイルとして保存しておける\n",
    "- .ipynbファイル\n",
    "- 中身はJSON\n",
    "- 実行結果なども含めて保存されるので次回開いたときにその情報が残ってる"
   ]
  },
  {
   "cell_type": "markdown",
   "metadata": {
    "slideshow": {
     "slide_type": "slide"
    }
   },
   "source": [
    "## Jupyter Notebookのマジックコマンド\n",
    "Jupyter Notebookはマジックコマンドをというものを利用することで様々なことが行える  \n",
    "マジックコメントを利用するには先頭に`%`を付けて実行する"
   ]
  },
  {
   "cell_type": "markdown",
   "metadata": {
    "slideshow": {
     "slide_type": "slide"
    }
   },
   "source": [
    "### 処理時間の計測"
   ]
  },
  {
   "cell_type": "markdown",
   "metadata": {},
   "source": [
    "処置時間を計測する%time"
   ]
  },
  {
   "cell_type": "code",
   "execution_count": 5,
   "metadata": {},
   "outputs": [
    {
     "name": "stdout",
     "output_type": "stream",
     "text": [
      "Wall time: 2.99 ms\n"
     ]
    },
    {
     "data": {
      "text/plain": [
       "4999950000"
      ]
     },
     "execution_count": 5,
     "metadata": {},
     "output_type": "execute_result"
    }
   ],
   "source": [
    "%time sum(range(100000))"
   ]
  },
  {
   "cell_type": "markdown",
   "metadata": {},
   "source": [
    "%timeitを使うことで複数回計測して統計情報も出す"
   ]
  },
  {
   "cell_type": "code",
   "execution_count": 6,
   "metadata": {},
   "outputs": [
    {
     "name": "stdout",
     "output_type": "stream",
     "text": [
      "172 µs ± 3.7 µs per loop (mean ± std. dev. of 7 runs, 1000 loops each)\n"
     ]
    }
   ],
   "source": [
    "%timeit sum(range(10000))"
   ]
  },
  {
   "cell_type": "markdown",
   "metadata": {
    "slideshow": {
     "slide_type": "slide"
    }
   },
   "source": [
    "複数行にわたる処理の時間を計測する場合は%%を使う"
   ]
  },
  {
   "cell_type": "code",
   "execution_count": 7,
   "metadata": {},
   "outputs": [
    {
     "name": "stdout",
     "output_type": "stream",
     "text": [
      "Wall time: 18.9 ms\n"
     ]
    }
   ],
   "source": [
    "%%time\n",
    "import random\n",
    "\n",
    "items = [random.randint(1, 10) for _ in range(10000)]\n",
    "sum(items)"
   ]
  },
  {
   "cell_type": "markdown",
   "metadata": {
    "slideshow": {
     "slide_type": "slide"
    }
   },
   "source": [
    "### 過去の実行履歴を確認する"
   ]
  },
  {
   "cell_type": "code",
   "execution_count": 8,
   "metadata": {},
   "outputs": [
    {
     "name": "stdout",
     "output_type": "stream",
     "text": [
      "print('Hello')\n",
      "items = ['ピーター', 'フロプシー', 'モプシー', 'カトンテール', 'ベンジャミン']\n",
      "\n",
      "for index, item in enumerate(items) :\n",
      "    print('{}: {}'.format(index, item))\n",
      "\n",
      "\n",
      "# セル内の一番最後の処理の戻り値は変数で受け取らなければそのまま出力される\n",
      "result = 'Done'\n",
      "result\n",
      "def rabbit_function() :\n",
      "    pass\n",
      "\n",
      "class rabbit_class:\n",
      "    def rabiit_method() :\n",
      "        pass\n",
      "# デモ用のセル\n",
      "%time sum(range(100000))\n",
      "%timeit sum(range(10000))\n",
      "%%time\n",
      "import random\n",
      "\n",
      "items = [random.randint(1, 10) for _ in range(10000)]\n",
      "sum(items)\n",
      "%history\n"
     ]
    }
   ],
   "source": [
    "%history"
   ]
  },
  {
   "cell_type": "markdown",
   "metadata": {
    "slideshow": {
     "slide_type": "slide"
    }
   },
   "source": [
    "### 変数の確認"
   ]
  },
  {
   "cell_type": "code",
   "execution_count": 9,
   "metadata": {},
   "outputs": [
    {
     "name": "stdout",
     "output_type": "stream",
     "text": [
      "index\t item\t items\t rabbit_class\t rabbit_function\t random\t result\t \n"
     ]
    }
   ],
   "source": [
    "%who"
   ]
  },
  {
   "cell_type": "code",
   "execution_count": 10,
   "metadata": {},
   "outputs": [
    {
     "name": "stdout",
     "output_type": "stream",
     "text": [
      "Variable          Type        Data/Info\n",
      "---------------------------------------\n",
      "index             int         4\n",
      "item              str         ベンジャミン\n",
      "items             list        n=10000\n",
      "rabbit_class      type        <class '__main__.rabbit_class'>\n",
      "rabbit_function   function    <function rabbit_function at 0x0000024A87E0AA60>\n",
      "random            module      <module 'random' from 'C:<...>ython37\\\\lib\\\\random.py'>\n",
      "result            str         Done\n"
     ]
    }
   ],
   "source": [
    "%whos"
   ]
  },
  {
   "cell_type": "markdown",
   "metadata": {
    "slideshow": {
     "slide_type": "slide"
    }
   },
   "source": [
    "### コマンドの実行"
   ]
  },
  {
   "cell_type": "code",
   "execution_count": 11,
   "metadata": {},
   "outputs": [
    {
     "name": "stdout",
     "output_type": "stream",
     "text": [
      "PyCon mini Sapporo 2019.ipynb\n",
      "img\n",
      "pycon_sapporo2019_env\n"
     ]
    }
   ],
   "source": [
    "%%bash\n",
    "ls"
   ]
  },
  {
   "cell_type": "code",
   "execution_count": 12,
   "metadata": {},
   "outputs": [
    {
     "name": "stdout",
     "output_type": "stream",
     "text": [
      "Package            Version\n",
      "------------------ -------\n",
      "attrs              19.1.0 \n",
      "backcall           0.1.0  \n",
      "bleach             3.1.0  \n",
      "colorama           0.4.1  \n",
      "cycler             0.10.0 \n",
      "decorator          4.4.0  \n",
      "defusedxml         0.6.0  \n",
      "entrypoints        0.3    \n",
      "ipykernel          5.1.0  \n",
      "ipython            7.5.0  \n",
      "ipython-genutils   0.2.0  \n",
      "ipywidgets         7.4.2  \n",
      "jedi               0.13.3 \n",
      "Jinja2             2.10.1 \n",
      "jsonschema         3.0.1  \n",
      "jupyter            1.0.0  \n",
      "jupyter-client     5.2.4  \n",
      "jupyter-console    6.0.0  \n",
      "jupyter-core       4.4.0  \n",
      "jupyterlab         0.35.6 \n",
      "jupyterlab-server  0.2.0  \n",
      "kiwisolver         1.1.0  \n",
      "MarkupSafe         1.1.1  \n",
      "matplotlib         3.0.3  \n",
      "mistune            0.8.4  \n",
      "nbconvert          5.5.0  \n",
      "nbformat           4.4.0  \n",
      "notebook           5.7.8  \n",
      "numpy              1.16.3 \n",
      "pandas             0.24.2 \n",
      "pandocfilters      1.4.2  \n",
      "parso              0.4.0  \n",
      "pickleshare        0.7.5  \n",
      "pip                19.0.3 \n",
      "prometheus-client  0.6.0  \n",
      "prompt-toolkit     2.0.9  \n",
      "Pygments           2.4.0  \n",
      "pyparsing          2.4.0  \n",
      "pyrsistent         0.15.1 \n",
      "python-dateutil    2.8.0  \n",
      "pytz               2019.1 \n",
      "pywinpty           0.5.5  \n",
      "pyzmq              18.0.1 \n",
      "qtconsole          4.4.4  \n",
      "scikit-learn       0.20.3 \n",
      "scipy              1.2.1  \n",
      "Send2Trash         1.5.0  \n",
      "setuptools         40.8.0 \n",
      "six                1.12.0 \n",
      "terminado          0.8.2  \n",
      "testpath           0.4.2  \n",
      "tornado            6.0.2  \n",
      "traitlets          4.3.2  \n",
      "wcwidth            0.1.7  \n",
      "webencodings       0.5.1  \n",
      "widgetsnbextension 3.4.2  \n"
     ]
    },
    {
     "name": "stderr",
     "output_type": "stream",
     "text": [
      "You are using pip version 19.0.3, however version 19.1.1 is available.\n",
      "You should consider upgrading via the 'python -m pip install --upgrade pip' command.\n"
     ]
    }
   ],
   "source": [
    "!pip list"
   ]
  },
  {
   "cell_type": "markdown",
   "metadata": {
    "slideshow": {
     "slide_type": "slide"
    }
   },
   "source": [
    "### 利用可能なマジックコマンド一覧"
   ]
  },
  {
   "cell_type": "code",
   "execution_count": 13,
   "metadata": {},
   "outputs": [
    {
     "data": {
      "application/json": {
       "cell": {
        "!": "OSMagics",
        "HTML": "Other",
        "SVG": "Other",
        "bash": "Other",
        "capture": "ExecutionMagics",
        "cmd": "Other",
        "debug": "ExecutionMagics",
        "file": "Other",
        "html": "DisplayMagics",
        "javascript": "DisplayMagics",
        "js": "DisplayMagics",
        "latex": "DisplayMagics",
        "markdown": "DisplayMagics",
        "perl": "Other",
        "prun": "ExecutionMagics",
        "pypy": "Other",
        "python": "Other",
        "python2": "Other",
        "python3": "Other",
        "ruby": "Other",
        "script": "ScriptMagics",
        "sh": "Other",
        "svg": "DisplayMagics",
        "sx": "OSMagics",
        "system": "OSMagics",
        "time": "ExecutionMagics",
        "timeit": "ExecutionMagics",
        "writefile": "OSMagics"
       },
       "line": {
        "alias": "OSMagics",
        "alias_magic": "BasicMagics",
        "autoawait": "AsyncMagics",
        "autocall": "AutoMagics",
        "automagic": "AutoMagics",
        "autosave": "KernelMagics",
        "bookmark": "OSMagics",
        "cd": "OSMagics",
        "clear": "KernelMagics",
        "cls": "KernelMagics",
        "colors": "BasicMagics",
        "conda": "PackagingMagics",
        "config": "ConfigMagics",
        "connect_info": "KernelMagics",
        "copy": "Other",
        "ddir": "Other",
        "debug": "ExecutionMagics",
        "dhist": "OSMagics",
        "dirs": "OSMagics",
        "doctest_mode": "BasicMagics",
        "echo": "Other",
        "ed": "Other",
        "edit": "KernelMagics",
        "env": "OSMagics",
        "gui": "BasicMagics",
        "hist": "Other",
        "history": "HistoryMagics",
        "killbgscripts": "ScriptMagics",
        "ldir": "Other",
        "less": "KernelMagics",
        "load": "CodeMagics",
        "load_ext": "ExtensionMagics",
        "loadpy": "CodeMagics",
        "logoff": "LoggingMagics",
        "logon": "LoggingMagics",
        "logstart": "LoggingMagics",
        "logstate": "LoggingMagics",
        "logstop": "LoggingMagics",
        "ls": "Other",
        "lsmagic": "BasicMagics",
        "macro": "ExecutionMagics",
        "magic": "BasicMagics",
        "matplotlib": "PylabMagics",
        "mkdir": "Other",
        "more": "KernelMagics",
        "notebook": "BasicMagics",
        "page": "BasicMagics",
        "pastebin": "CodeMagics",
        "pdb": "ExecutionMagics",
        "pdef": "NamespaceMagics",
        "pdoc": "NamespaceMagics",
        "pfile": "NamespaceMagics",
        "pinfo": "NamespaceMagics",
        "pinfo2": "NamespaceMagics",
        "pip": "PackagingMagics",
        "popd": "OSMagics",
        "pprint": "BasicMagics",
        "precision": "BasicMagics",
        "prun": "ExecutionMagics",
        "psearch": "NamespaceMagics",
        "psource": "NamespaceMagics",
        "pushd": "OSMagics",
        "pwd": "OSMagics",
        "pycat": "OSMagics",
        "pylab": "PylabMagics",
        "qtconsole": "KernelMagics",
        "quickref": "BasicMagics",
        "recall": "HistoryMagics",
        "rehashx": "OSMagics",
        "reload_ext": "ExtensionMagics",
        "ren": "Other",
        "rep": "Other",
        "rerun": "HistoryMagics",
        "reset": "NamespaceMagics",
        "reset_selective": "NamespaceMagics",
        "rmdir": "Other",
        "run": "ExecutionMagics",
        "save": "CodeMagics",
        "sc": "OSMagics",
        "set_env": "OSMagics",
        "store": "StoreMagics",
        "sx": "OSMagics",
        "system": "OSMagics",
        "tb": "ExecutionMagics",
        "time": "ExecutionMagics",
        "timeit": "ExecutionMagics",
        "unalias": "OSMagics",
        "unload_ext": "ExtensionMagics",
        "who": "NamespaceMagics",
        "who_ls": "NamespaceMagics",
        "whos": "NamespaceMagics",
        "xdel": "NamespaceMagics",
        "xmode": "BasicMagics"
       }
      },
      "text/plain": [
       "Available line magics:\n",
       "%alias  %alias_magic  %autoawait  %autocall  %automagic  %autosave  %bookmark  %cd  %clear  %cls  %colors  %conda  %config  %connect_info  %copy  %ddir  %debug  %dhist  %dirs  %doctest_mode  %echo  %ed  %edit  %env  %gui  %hist  %history  %killbgscripts  %ldir  %less  %load  %load_ext  %loadpy  %logoff  %logon  %logstart  %logstate  %logstop  %ls  %lsmagic  %macro  %magic  %matplotlib  %mkdir  %more  %notebook  %page  %pastebin  %pdb  %pdef  %pdoc  %pfile  %pinfo  %pinfo2  %pip  %popd  %pprint  %precision  %prun  %psearch  %psource  %pushd  %pwd  %pycat  %pylab  %qtconsole  %quickref  %recall  %rehashx  %reload_ext  %ren  %rep  %rerun  %reset  %reset_selective  %rmdir  %run  %save  %sc  %set_env  %store  %sx  %system  %tb  %time  %timeit  %unalias  %unload_ext  %who  %who_ls  %whos  %xdel  %xmode\n",
       "\n",
       "Available cell magics:\n",
       "%%!  %%HTML  %%SVG  %%bash  %%capture  %%cmd  %%debug  %%file  %%html  %%javascript  %%js  %%latex  %%markdown  %%perl  %%prun  %%pypy  %%python  %%python2  %%python3  %%ruby  %%script  %%sh  %%svg  %%sx  %%system  %%time  %%timeit  %%writefile\n",
       "\n",
       "Automagic is ON, % prefix IS NOT needed for line magics."
      ]
     },
     "execution_count": 13,
     "metadata": {},
     "output_type": "execute_result"
    }
   ],
   "source": [
    "%lsmagic"
   ]
  },
  {
   "cell_type": "markdown",
   "metadata": {
    "slideshow": {
     "slide_type": "slide"
    }
   },
   "source": [
    "## CodeセルとMarkdownセル\n",
    "- NotebookのセルはPythonコードのみでなく、テキストやMarkdownの記述も可能\n",
    "- これによってコードとして再現可能なドキュメント化や実行可能な手順書としての利用することも可能"
   ]
  },
  {
   "cell_type": "markdown",
   "metadata": {},
   "source": [
    "#### セルをMarkdownに変更\n",
    "- コマンドモードで`m`を押すことで現在のセルをMarkdownに変更"
   ]
  },
  {
   "cell_type": "markdown",
   "metadata": {},
   "source": [
    "ここにMarkdownでドキュメントを記載します。"
   ]
  },
  {
   "cell_type": "markdown",
   "metadata": {},
   "source": [
    "#### セルをCodeに変更\n",
    "- デフォルト状態ではCodeになっている\n",
    "- MarkdownのセルをCodeに戻したい場合は`y`を押す"
   ]
  },
  {
   "cell_type": "code",
   "execution_count": 14,
   "metadata": {},
   "outputs": [
    {
     "name": "stdout",
     "output_type": "stream",
     "text": [
      "Hello\n"
     ]
    }
   ],
   "source": [
    "# ここにコードを記述して実行可能\n",
    "print('Hello')"
   ]
  },
  {
   "cell_type": "markdown",
   "metadata": {
    "slideshow": {
     "slide_type": "slide"
    }
   },
   "source": [
    "## データ分析環境としてのJupyter Notebook\n",
    "- Juypter Notebookはデータ分析に利用されるPandasやMatplotlibとの親和性が高い"
   ]
  },
  {
   "cell_type": "markdown",
   "metadata": {
    "slideshow": {
     "slide_type": "slide"
    }
   },
   "source": [
    "### PandasのDataFrame表示\n",
    "- データ分析でよく使われるライブラリ\n",
    "- DataFrame(RDBのテーブルような形式)でデータをまとめて持っておける\n",
    "- RDBのSQLに対応するような様々な操作を機能として提供している"
   ]
  },
  {
   "cell_type": "code",
   "execution_count": 15,
   "metadata": {},
   "outputs": [],
   "source": [
    "import pandas as pd\n",
    "from sklearn.datasets import load_iris\n",
    "\n",
    "iris = load_iris()"
   ]
  },
  {
   "cell_type": "code",
   "execution_count": 16,
   "metadata": {},
   "outputs": [
    {
     "data": {
      "text/plain": [
       "array([[5.1, 3.5, 1.4, 0.2],\n",
       "       [4.9, 3. , 1.4, 0.2],\n",
       "       [4.7, 3.2, 1.3, 0.2],\n",
       "       [4.6, 3.1, 1.5, 0.2],\n",
       "       [5. , 3.6, 1.4, 0.2]])"
      ]
     },
     "execution_count": 16,
     "metadata": {},
     "output_type": "execute_result"
    }
   ],
   "source": [
    "# データは1件のデータが4つの観測値を持つ\n",
    "# 1件のデータが長さ4の配列でさらにそれがデータ件数分の2次元配列になっている\n",
    "iris['data'][:5]"
   ]
  },
  {
   "cell_type": "code",
   "execution_count": 17,
   "metadata": {},
   "outputs": [
    {
     "data": {
      "text/plain": [
       "['sepal length (cm)',\n",
       " 'sepal width (cm)',\n",
       " 'petal length (cm)',\n",
       " 'petal width (cm)']"
      ]
     },
     "execution_count": 17,
     "metadata": {},
     "output_type": "execute_result"
    }
   ],
   "source": [
    "# 各観測値が何を計測した値なのかはfeature_names\n",
    "iris['feature_names']"
   ]
  },
  {
   "cell_type": "code",
   "execution_count": 18,
   "metadata": {
    "slideshow": {
     "slide_type": "slide"
    }
   },
   "outputs": [
    {
     "name": "stdout",
     "output_type": "stream",
     "text": [
      "   sepal_length  sepal_width  petal_length  petal_width\n",
      "0           5.1          3.5           1.4          0.2\n",
      "1           4.9          3.0           1.4          0.2\n",
      "2           4.7          3.2           1.3          0.2\n",
      "3           4.6          3.1           1.5          0.2\n",
      "4           5.0          3.6           1.4          0.2\n"
     ]
    }
   ],
   "source": [
    "# このデータをDataFrameにする\n",
    "df = pd.DataFrame(iris['data'], columns=map(lambda x : x[:-5].replace(' ', '_'), iris['feature_names']))\n",
    "print(df.head())"
   ]
  },
  {
   "cell_type": "code",
   "execution_count": 19,
   "metadata": {},
   "outputs": [
    {
     "data": {
      "text/html": [
       "<div>\n",
       "<style scoped>\n",
       "    .dataframe tbody tr th:only-of-type {\n",
       "        vertical-align: middle;\n",
       "    }\n",
       "\n",
       "    .dataframe tbody tr th {\n",
       "        vertical-align: top;\n",
       "    }\n",
       "\n",
       "    .dataframe thead th {\n",
       "        text-align: right;\n",
       "    }\n",
       "</style>\n",
       "<table border=\"1\" class=\"dataframe\">\n",
       "  <thead>\n",
       "    <tr style=\"text-align: right;\">\n",
       "      <th></th>\n",
       "      <th>sepal_length</th>\n",
       "      <th>sepal_width</th>\n",
       "      <th>petal_length</th>\n",
       "      <th>petal_width</th>\n",
       "    </tr>\n",
       "  </thead>\n",
       "  <tbody>\n",
       "    <tr>\n",
       "      <th>0</th>\n",
       "      <td>5.1</td>\n",
       "      <td>3.5</td>\n",
       "      <td>1.4</td>\n",
       "      <td>0.2</td>\n",
       "    </tr>\n",
       "    <tr>\n",
       "      <th>1</th>\n",
       "      <td>4.9</td>\n",
       "      <td>3.0</td>\n",
       "      <td>1.4</td>\n",
       "      <td>0.2</td>\n",
       "    </tr>\n",
       "    <tr>\n",
       "      <th>2</th>\n",
       "      <td>4.7</td>\n",
       "      <td>3.2</td>\n",
       "      <td>1.3</td>\n",
       "      <td>0.2</td>\n",
       "    </tr>\n",
       "    <tr>\n",
       "      <th>3</th>\n",
       "      <td>4.6</td>\n",
       "      <td>3.1</td>\n",
       "      <td>1.5</td>\n",
       "      <td>0.2</td>\n",
       "    </tr>\n",
       "    <tr>\n",
       "      <th>4</th>\n",
       "      <td>5.0</td>\n",
       "      <td>3.6</td>\n",
       "      <td>1.4</td>\n",
       "      <td>0.2</td>\n",
       "    </tr>\n",
       "  </tbody>\n",
       "</table>\n",
       "</div>"
      ],
      "text/plain": [
       "   sepal_length  sepal_width  petal_length  petal_width\n",
       "0           5.1          3.5           1.4          0.2\n",
       "1           4.9          3.0           1.4          0.2\n",
       "2           4.7          3.2           1.3          0.2\n",
       "3           4.6          3.1           1.5          0.2\n",
       "4           5.0          3.6           1.4          0.2"
      ]
     },
     "execution_count": 19,
     "metadata": {},
     "output_type": "execute_result"
    }
   ],
   "source": [
    "# テーブルに整形された表示\n",
    "df.head()"
   ]
  },
  {
   "cell_type": "markdown",
   "metadata": {
    "slideshow": {
     "slide_type": "slide"
    }
   },
   "source": [
    "### Matplotlibのグラフをインライン表示\n",
    "- グラフを生成するライブラリ"
   ]
  },
  {
   "cell_type": "code",
   "execution_count": 20,
   "metadata": {},
   "outputs": [],
   "source": [
    "%matplotlib inline"
   ]
  },
  {
   "cell_type": "code",
   "execution_count": 21,
   "metadata": {},
   "outputs": [
    {
     "data": {
      "text/plain": [
       "<matplotlib.axes._subplots.AxesSubplot at 0x24a917359b0>"
      ]
     },
     "execution_count": 21,
     "metadata": {},
     "output_type": "execute_result"
    },
    {
     "data": {
      "image/png": "[encoded data removed]",
      "text/plain": [
       "<Figure size 432x288 with 1 Axes>"
      ]
     },
     "metadata": {
      "needs_background": "light"
     },
     "output_type": "display_data"
    }
   ],
   "source": [
    "df.plot.scatter(x='petal_length', y='petal_width')"
   ]
  },
  {
   "cell_type": "markdown",
   "metadata": {
    "slideshow": {
     "slide_type": "slide"
    }
   },
   "source": [
    "## Notebookの共有\n",
    "- NotebookはGithubに上げるとRead Onlyでそのまま表示可能\n",
    "- 実行番号や出力もそのまま含まれるの以下をやっておくといい\n",
    "  - 出力を含めない場合は Kernel > Restart & Clear Output\n",
    "  - 出力も含めて共有する場合は Kernel > Restart & Run All\n",
    "- 共有前は一度 Kernel > Restart & Run All をして上から順に実行できるか確認しておくとよい\n",
    "  - Jupyter Notebookで作業中は前後のセルを行ったり来たりも多い\n",
    "  - 変数の定義場所などの関係で上からやると動かず同じ結果を再現できない場合がある\n",
    "  \n",
    "  \n",
    "## 実際のNotebook例\n",
    "- [Developers.IO 2018 沖縄デモ資料](https://github.com/john-smith/sagemaker_notebooks/blob/master/devio2018_okinawa/linear_learner_mnist.ipynb)\n",
    "- [Keras Rin-chan](https://github.com/john-smith/keras_rinchan/blob/master/src/rin_chan.ipynb)\n"
   ]
  },
  {
   "cell_type": "markdown",
   "metadata": {
    "slideshow": {
     "slide_type": "slide"
    }
   },
   "source": [
    "## その他機能について\n",
    "- 本日紹介していないけど便利な機能\n",
    "  - 動的なグラフを描画\n",
    "  - Extensionで拡張\n",
    "  - Python以外の言語を動かすためのKernel導入\n",
    "- この資料もJupyter Notebookで作成"
   ]
  },
  {
   "cell_type": "markdown",
   "metadata": {
    "slideshow": {
     "slide_type": "slide"
    }
   },
   "source": [
    "## まとめと注意点\n",
    "- Jupyter Notebookの紹介\n",
    "   - 保存・再利用可能なインタラクティブなPython実行環境\n",
    "   - マジックコマンド・Markdownでドキュメント化といった便利機能\n",
    "   - データ分析環境としての活用\n",
    "   - Githubを使っての共有\n",
    "- 注意点\n",
    "   - Notebookは試行錯誤しながらプログラムを記述するのでコードが汚くなりがち\n",
    "   - 例外などもその場で見て確認→修正となるのでハンドリングされてないことが多い\n",
    "   - .pyファイルとしてそのまま出力することも可能だが本番利用の歳は要注意"
   ]
  }
 ],
 "metadata": {
  "celltoolbar": "Slideshow",
  "kernelspec": {
   "display_name": "Python 3",
   "language": "python",
   "name": "python3"
  },
  "language_info": {
   "codemirror_mode": {
    "name": "ipython",
    "version": 3
   },
   "file_extension": ".py",
   "mimetype": "text/x-python",
   "name": "python",
   "nbconvert_exporter": "python",
   "pygments_lexer": "ipython3",
   "version": "3.7.3"
  }
 },
 "nbformat": 4,
 "nbformat_minor": 2
}
