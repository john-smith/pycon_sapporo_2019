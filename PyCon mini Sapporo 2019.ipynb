{
 "cells": [
  {
   "cell_type": "markdown",
   "metadata": {
    "slideshow": {
     "slide_type": "slide"
    }
   },
   "source": [
    "<img src=\"docs/img/cm_logo.jpg\" alt=\"cm_logo\" width=\"600\">\n",
    "\n",
    "# Jupyter Notebookではじめるインタラクティブな開発環境入門\n",
    "じょんすみす"
   ]
  },
  {
   "cell_type": "markdown",
   "metadata": {
    "slideshow": {
     "slide_type": "slide"
    }
   },
   "source": [
    "## whoami\n",
    "- じょんすみす\n",
    "- クラスメソッド株式会社\n",
    "- データインテグレーション(DI)部 ML推進チームリーダー"
   ]
  },
  {
   "cell_type": "markdown",
   "metadata": {},
   "source": [
    "<img src=\"docs/img/whoami.png\" alt=\"whoami\" width=\"500\">"
   ]
  },
  {
   "cell_type": "markdown",
   "metadata": {},
   "source": [
    "### やってること\n",
    "- Hadoop/Sparkおじさん\n",
    "- 機械学習の人\n",
    "- Alteryxの人"
   ]
  },
  {
   "cell_type": "markdown",
   "metadata": {
    "slideshow": {
     "slide_type": "slide"
    }
   },
   "source": [
    "## 本日の内容\n",
    "- Jupyter Notebookの基本的な機能をサラッと紹介\n",
    "- たぶん今日の内容だけで最低限使えるけど興味を持って詳しく知りたくなったら調べてね☆彡"
   ]
  },
  {
   "cell_type": "markdown",
   "metadata": {
    "slideshow": {
     "slide_type": "slide"
    }
   },
   "source": [
    "## インタラクティブな環境とは\n",
    "\n",
    "- 通常のプログラム\n",
    "  - 処理全体を記述したスクリプトを一括で実行する\n",
    "  - Pythonの場合、.pyファイルを指定してpythonコマンドを実行\n",
    "  - 一連の流れを一通り記述したのち全体を実行するので細かい単位での処理内容の確認が難しい\n",
    "  - ファイルの内容に変更がなければ常に同じ結果を得られる\n",
    "- インタラクティブな環境\n",
    "  - いわゆるREPL\n",
    "  - Pythonの場合、.pyを指定せずにpythonコマンドを実行\n",
    "  - 1行記述して実行を繰り返していく\n",
    "  - 細かい単位で処理結果を確認できる\n",
    "  - 記述した内容を保存しておけない\n",
    "  \n",
    "![Pythonコマンド](docs/img/python_console.png)"
   ]
  },
  {
   "cell_type": "markdown",
   "metadata": {
    "slideshow": {
     "slide_type": "slide"
    }
   },
   "source": [
    "## Jupyter Notebookとインタラクティブな環境\n",
    "\n",
    "Jupyter Notebookを使えばインタラクティブにスクリプトを実行しながら処理内容も保存しておける"
   ]
  },
  {
   "cell_type": "code",
   "execution_count": null,
   "metadata": {},
   "outputs": [],
   "source": [
    "print('Hello')"
   ]
  },
  {
   "cell_type": "markdown",
   "metadata": {
    "slideshow": {
     "slide_type": "slide"
    }
   },
   "source": [
    "### 処理は複数行・複数命令を記述可能"
   ]
  },
  {
   "cell_type": "code",
   "execution_count": null,
   "metadata": {},
   "outputs": [],
   "source": [
    "items = ['ピーター', 'フロプシー', 'モプシー', 'カトンテール', 'ベンジャミン']\n",
    "\n",
    "for index, item in enumerate(items) :\n",
    "    print('{}: {}'.format(index, item))\n",
    "\n",
    "\n",
    "# セル内の一番最後の処理の戻り値は変数で受け取らなければそのまま出力される\n",
    "result = 'Done'\n",
    "result"
   ]
  },
  {
   "cell_type": "markdown",
   "metadata": {
    "slideshow": {
     "slide_type": "slide"
    }
   },
   "source": [
    "### 関数などの定義のみのセルも作成可能"
   ]
  },
  {
   "cell_type": "code",
   "execution_count": null,
   "metadata": {},
   "outputs": [],
   "source": [
    "def rabbit_function() :\n",
    "    pass\n",
    "\n",
    "class rabbit_class:\n",
    "    def rabiit_method() :\n",
    "        pass"
   ]
  },
  {
   "cell_type": "markdown",
   "metadata": {
    "slideshow": {
     "slide_type": "slide"
    }
   },
   "source": [
    "## Jupyter Notebookのキホン\n",
    "### インストール・起動・Notebook作成\n",
    "- pipを使ってJupyter Notebookのインストール\n",
    "\n",
    "```\n",
    "pip install jupyter\n",
    "```\n",
    "\n",
    "- 以下のコマンドを入力して起動\n",
    "\n",
    "```\n",
    "jupyter notebook\n",
    "```"
   ]
  },
  {
   "cell_type": "markdown",
   "metadata": {
    "slideshow": {
     "slide_type": "slide"
    }
   },
   "source": [
    "- ブラウザの新規タブで立ち上がり以下のような画面が表示される(localhost:8888を直接入力してもok)\n",
    "\n",
    "![Jupyter Notebookの起動画面](docs/img/jupyter_list.png)\n",
    "\n",
    "- 右上の[new] > [Python3]を選択することによって新規Notebookを作成\n",
    "\n",
    "<img src=\"docs/img/new_notebook.png\" alt=\"新規作成\" width=\"350\">"
   ]
  },
  {
   "cell_type": "markdown",
   "metadata": {
    "slideshow": {
     "slide_type": "slide"
    }
   },
   "source": [
    "### プログラムの処理単位とセル\n",
    "- セルと言われる単位でプログラムを実行する\n",
    "  - セル内に処理を記述して実行(Shift-EnterまたはCtrl-Enter)\n",
    "  - セルの追加・削除は自由に行える\n",
    "- コマンドモードと編集モード\n",
    "  - Escキーを押してコマンドモードへ移行\n",
    "    - コマンドモードではカーソルキー上下でセル間の移動\n",
    "    - `a`で現在セルの上、`b`で下に新しいセルを追加\n",
    "    - `dd`でセルの削除\n",
    "    - `Enter`で現在のセルに対して変数モードに移行\n",
    "- その他のショートカット\n",
    "  - `h`で一覧表示\n",
    "  \n",
    "<img src=\"docs/img/sc.png\" alt=\"ショートカット\" width=\"600\">"
   ]
  },
  {
   "cell_type": "code",
   "execution_count": null,
   "metadata": {
    "slideshow": {
     "slide_type": "skip"
    }
   },
   "outputs": [],
   "source": [
    "# デモ用のセル"
   ]
  },
  {
   "cell_type": "markdown",
   "metadata": {
    "slideshow": {
     "slide_type": "slide"
    }
   },
   "source": [
    "### Notebookの保存\n",
    "- Notebookはファイルとして保存しておける\n",
    "- .ipynbファイル\n",
    "- 中身はJSON\n",
    "- 実行結果なども含めて保存されるので次回開いたときにその情報が残ってる"
   ]
  },
  {
   "cell_type": "markdown",
   "metadata": {
    "slideshow": {
     "slide_type": "slide"
    }
   },
   "source": [
    "## Jupyter Notebookのマジックコマンド\n",
    "Jupyter Notebookはマジックコマンドをというものを利用することで様々なことが行える  \n",
    "マジックコメントを利用するには先頭に`%`を付けて実行する"
   ]
  },
  {
   "cell_type": "markdown",
   "metadata": {
    "slideshow": {
     "slide_type": "slide"
    }
   },
   "source": [
    "### 処理時間の計測"
   ]
  },
  {
   "cell_type": "markdown",
   "metadata": {},
   "source": [
    "処置時間を計測する%time"
   ]
  },
  {
   "cell_type": "code",
   "execution_count": null,
   "metadata": {},
   "outputs": [],
   "source": [
    "%time sum(range(100000))"
   ]
  },
  {
   "cell_type": "markdown",
   "metadata": {},
   "source": [
    "%timeitを使うことで複数回計測して統計情報も出す"
   ]
  },
  {
   "cell_type": "code",
   "execution_count": null,
   "metadata": {},
   "outputs": [],
   "source": [
    "%timeit sum(range(10000))"
   ]
  },
  {
   "cell_type": "markdown",
   "metadata": {
    "slideshow": {
     "slide_type": "slide"
    }
   },
   "source": [
    "複数行にわたる処理の時間を計測する場合は%%を使う"
   ]
  },
  {
   "cell_type": "code",
   "execution_count": null,
   "metadata": {},
   "outputs": [],
   "source": [
    "%%time\n",
    "import random\n",
    "\n",
    "items = [random.randint(1, 10) for _ in range(10000)]\n",
    "sum(items)"
   ]
  },
  {
   "cell_type": "markdown",
   "metadata": {
    "slideshow": {
     "slide_type": "slide"
    }
   },
   "source": [
    "### 過去の実行履歴を確認する"
   ]
  },
  {
   "cell_type": "code",
   "execution_count": null,
   "metadata": {},
   "outputs": [],
   "source": [
    "%history"
   ]
  },
  {
   "cell_type": "markdown",
   "metadata": {
    "slideshow": {
     "slide_type": "slide"
    }
   },
   "source": [
    "### 変数の確認"
   ]
  },
  {
   "cell_type": "code",
   "execution_count": null,
   "metadata": {},
   "outputs": [],
   "source": [
    "%who"
   ]
  },
  {
   "cell_type": "code",
   "execution_count": null,
   "metadata": {},
   "outputs": [],
   "source": [
    "%whos"
   ]
  },
  {
   "cell_type": "markdown",
   "metadata": {
    "slideshow": {
     "slide_type": "slide"
    }
   },
   "source": [
    "### コマンドの実行"
   ]
  },
  {
   "cell_type": "code",
   "execution_count": null,
   "metadata": {},
   "outputs": [],
   "source": [
    "%%bash\n",
    "ls"
   ]
  },
  {
   "cell_type": "code",
   "execution_count": null,
   "metadata": {},
   "outputs": [],
   "source": [
    "!pip list"
   ]
  },
  {
   "cell_type": "markdown",
   "metadata": {
    "slideshow": {
     "slide_type": "slide"
    }
   },
   "source": [
    "### 利用可能なマジックコマンド一覧"
   ]
  },
  {
   "cell_type": "code",
   "execution_count": null,
   "metadata": {},
   "outputs": [],
   "source": [
    "%lsmagic"
   ]
  },
  {
   "cell_type": "markdown",
   "metadata": {
    "slideshow": {
     "slide_type": "slide"
    }
   },
   "source": [
    "## CodeセルとMarkdownセル\n",
    "- NotebookのセルはPythonコードのみでなく、テキストやMarkdownの記述も可能\n",
    "- これによってコードとして再現可能なドキュメント化や実行可能な手順書としての利用することも可能"
   ]
  },
  {
   "cell_type": "markdown",
   "metadata": {},
   "source": [
    "#### セルをMarkdownに変更\n",
    "- コマンドモードで`m`を押すことで現在のセルをMarkdownに変更"
   ]
  },
  {
   "cell_type": "markdown",
   "metadata": {},
   "source": [
    "ここにMarkdownでドキュメントを記載します。"
   ]
  },
  {
   "cell_type": "markdown",
   "metadata": {},
   "source": [
    "#### セルをCodeに変更\n",
    "- デフォルト状態ではCodeになっている\n",
    "- MarkdownのセルをCodeに戻したい場合は`y`を押す"
   ]
  },
  {
   "cell_type": "code",
   "execution_count": null,
   "metadata": {},
   "outputs": [],
   "source": [
    "# ここにコードを記述して実行可能\n",
    "print('Hello')"
   ]
  },
  {
   "cell_type": "markdown",
   "metadata": {
    "slideshow": {
     "slide_type": "slide"
    }
   },
   "source": [
    "## データ分析環境としてのJupyter Notebook\n",
    "- Juypter Notebookはデータ分析に利用されるPandasやMatplotlibとの親和性が高い"
   ]
  },
  {
   "cell_type": "markdown",
   "metadata": {
    "slideshow": {
     "slide_type": "slide"
    }
   },
   "source": [
    "### PandasのDataFrame表示\n",
    "- データ分析でよく使われるライブラリ\n",
    "- DataFrame(RDBのテーブルような形式)でデータをまとめて持っておける\n",
    "- RDBのSQLに対応するような様々な操作を機能として提供している"
   ]
  },
  {
   "cell_type": "code",
   "execution_count": null,
   "metadata": {},
   "outputs": [],
   "source": [
    "import pandas as pd\n",
    "from sklearn.datasets import load_iris\n",
    "\n",
    "iris = load_iris()"
   ]
  },
  {
   "cell_type": "code",
   "execution_count": null,
   "metadata": {},
   "outputs": [],
   "source": [
    "# データは1件のデータが4つの観測値を持つ\n",
    "# 1件のデータが長さ4の配列でさらにそれがデータ件数分の2次元配列になっている\n",
    "iris['data'][:5]"
   ]
  },
  {
   "cell_type": "code",
   "execution_count": null,
   "metadata": {},
   "outputs": [],
   "source": [
    "# 各観測値が何を計測した値なのかはfeature_names\n",
    "iris['feature_names']"
   ]
  },
  {
   "cell_type": "code",
   "execution_count": null,
   "metadata": {
    "slideshow": {
     "slide_type": "slide"
    }
   },
   "outputs": [],
   "source": [
    "# このデータをDataFrameにする\n",
    "df = pd.DataFrame(iris['data'], columns=map(lambda x : x[:-5].replace(' ', '_'), iris['feature_names']))\n",
    "print(df.head())"
   ]
  },
  {
   "cell_type": "code",
   "execution_count": null,
   "metadata": {},
   "outputs": [],
   "source": [
    "# テーブルに整形された表示\n",
    "df.head()"
   ]
  },
  {
   "cell_type": "markdown",
   "metadata": {
    "slideshow": {
     "slide_type": "slide"
    }
   },
   "source": [
    "### Matplotlibのグラフをインライン表示\n",
    "- グラフを生成するライブラリ"
   ]
  },
  {
   "cell_type": "code",
   "execution_count": null,
   "metadata": {},
   "outputs": [],
   "source": [
    "%matplotlib inline"
   ]
  },
  {
   "cell_type": "code",
   "execution_count": null,
   "metadata": {},
   "outputs": [],
   "source": [
    "df.plot.scatter(x='petal_length', y='petal_width')"
   ]
  },
  {
   "cell_type": "markdown",
   "metadata": {
    "slideshow": {
     "slide_type": "slide"
    }
   },
   "source": [
    "## Notebookの共有\n",
    "- NotebookはGithubに上げるとRead Onlyでそのまま表示可能\n",
    "- 実行番号や出力もそのまま含まれるの以下をやっておくといい\n",
    "  - 出力を含めない場合は Kernel > Restart & Clear Output\n",
    "  - 出力も含めて共有する場合は Kernel > Restart & Run All\n",
    "- 共有前は一度 Kernel > Restart & Run All をして上から順に実行できるか確認しておくとよい\n",
    "  - Jupyter Notebookで作業中は前後のセルを行ったり来たりも多い\n",
    "  - 変数の定義場所などの関係で上からやると動かず同じ結果を再現できない場合がある\n",
    "  \n",
    "  \n",
    "## 実際のNotebook例\n",
    "- [Developers.IO 2018 沖縄デモ資料](https://github.com/john-smith/sagemaker_notebooks/blob/master/devio2018_okinawa/linear_learner_mnist.ipynb)\n",
    "- [Keras Rin-chan](https://github.com/john-smith/keras_rinchan/blob/master/src/rin_chan.ipynb)\n"
   ]
  },
  {
   "cell_type": "markdown",
   "metadata": {
    "slideshow": {
     "slide_type": "slide"
    }
   },
   "source": [
    "## その他機能について\n",
    "- 本日紹介していないけど便利な機能\n",
    "  - 動的なグラフを描画\n",
    "  - Extensionで拡張\n",
    "  - Python以外の言語を動かすためのKernel導入\n",
    "- この資料もJupyter Notebookで作成"
   ]
  },
  {
   "cell_type": "markdown",
   "metadata": {
    "slideshow": {
     "slide_type": "slide"
    }
   },
   "source": [
    "## まとめと注意点\n",
    "- Jupyter Notebookの紹介\n",
    "   - 保存・再利用可能なインタラクティブなPython実行環境\n",
    "   - マジックコマンド・Markdownでドキュメント化といった便利機能\n",
    "   - データ分析環境としての活用\n",
    "   - Githubを使っての共有\n",
    "- 注意点\n",
    "   - Notebookは試行錯誤しながらプログラムを記述するのでコードが汚くなりがち\n",
    "   - 例外などもその場で見て確認→修正となるのでハンドリングされてないことが多い\n",
    "   - .pyファイルとしてそのまま出力することも可能だが本番利用の歳は要注意"
   ]
  }
 ],
 "metadata": {
  "celltoolbar": "Slideshow",
  "kernelspec": {
   "display_name": "Python 3",
   "language": "python",
   "name": "python3"
  },
  "language_info": {
   "codemirror_mode": {
    "name": "ipython",
    "version": 3
   },
   "file_extension": ".py",
   "mimetype": "text/x-python",
   "name": "python",
   "nbconvert_exporter": "python",
   "pygments_lexer": "ipython3",
   "version": "3.7.3"
  }
 },
 "nbformat": 4,
 "nbformat_minor": 2
}
